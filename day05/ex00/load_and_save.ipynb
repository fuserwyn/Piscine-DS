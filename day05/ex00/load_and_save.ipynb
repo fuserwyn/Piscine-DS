{
 "cells": [
  {
   "cell_type": "code",
   "execution_count": 1,
   "metadata": {},
   "outputs": [],
   "source": [
    "import pandas as pd"
   ]
  },
  {
   "cell_type": "markdown",
   "metadata": {},
   "source": [
    "• read_csv:<br>\n",
    "◦ filter the rows with index 2 and 3 using the argument skiprows, we know that\n",
    "these observations were fake<br>\n",
    "◦ filter the last 2 rows from the footer using the argument skipfooter, we know\n",
    "that these observations were fake too<br>\n",
    "◦ assign the following names to the column: datetime, user<br>\n",
    "◦ use datetime as the index column"
   ]
  },
  {
   "cell_type": "code",
   "execution_count": 3,
   "metadata": {},
   "outputs": [
    {
     "data": {
      "text/html": [
       "<div>\n",
       "<style scoped>\n",
       "    .dataframe tbody tr th:only-of-type {\n",
       "        vertical-align: middle;\n",
       "    }\n",
       "\n",
       "    .dataframe tbody tr th {\n",
       "        vertical-align: top;\n",
       "    }\n",
       "\n",
       "    .dataframe thead th {\n",
       "        text-align: right;\n",
       "    }\n",
       "</style>\n",
       "<table border=\"1\" class=\"dataframe\">\n",
       "  <thead>\n",
       "    <tr style=\"text-align: right;\">\n",
       "      <th></th>\n",
       "      <th>user</th>\n",
       "    </tr>\n",
       "    <tr>\n",
       "      <th>datetime</th>\n",
       "      <th></th>\n",
       "    </tr>\n",
       "  </thead>\n",
       "  <tbody>\n",
       "    <tr>\n",
       "      <th>date_time;user</th>\n",
       "      <td>NaN</td>\n",
       "    </tr>\n",
       "    <tr>\n",
       "      <th>2020-04-17 12:01:08.463179;artem</th>\n",
       "      <td>NaN</td>\n",
       "    </tr>\n",
       "    <tr>\n",
       "      <th>2020-04-17 12:36:21.401412;oksana</th>\n",
       "      <td>NaN</td>\n",
       "    </tr>\n",
       "    <tr>\n",
       "      <th>2020-04-17 12:36:22.023355;oksana</th>\n",
       "      <td>NaN</td>\n",
       "    </tr>\n",
       "    <tr>\n",
       "      <th>2020-04-17 13:55:19.129243;artem</th>\n",
       "      <td>NaN</td>\n",
       "    </tr>\n",
       "    <tr>\n",
       "      <th>2020-04-17 15:00:33.138530;artem</th>\n",
       "      <td>NaN</td>\n",
       "    </tr>\n",
       "    <tr>\n",
       "      <th>2020-04-17 15:14:09.581054;artem</th>\n",
       "      <td>NaN</td>\n",
       "    </tr>\n",
       "    <tr>\n",
       "      <th>2020-04-17 22:46:26.785035;vladislav</th>\n",
       "      <td>NaN</td>\n",
       "    </tr>\n",
       "    <tr>\n",
       "      <th>2020-04-18 00:30:45.051569;artem</th>\n",
       "      <td>NaN</td>\n",
       "    </tr>\n",
       "    <tr>\n",
       "      <th>2020-04-18 10:53:52.623447;konstantin</th>\n",
       "      <td>NaN</td>\n",
       "    </tr>\n",
       "    <tr>\n",
       "      <th>2020-04-18 10:56:55.833899;maxim</th>\n",
       "      <td>NaN</td>\n",
       "    </tr>\n",
       "    <tr>\n",
       "      <th>2020-04-18 10:57:37.331258;konstantin</th>\n",
       "      <td>NaN</td>\n",
       "    </tr>\n",
       "    <tr>\n",
       "      <th>2020-04-18 11:02:42.796521;artem</th>\n",
       "      <td>NaN</td>\n",
       "    </tr>\n",
       "  </tbody>\n",
       "</table>\n",
       "</div>"
      ],
      "text/plain": [
       "                                       user\n",
       "datetime                                   \n",
       "date_time;user                          NaN\n",
       "2020-04-17 12:01:08.463179;artem        NaN\n",
       "2020-04-17 12:36:21.401412;oksana       NaN\n",
       "2020-04-17 12:36:22.023355;oksana       NaN\n",
       "2020-04-17 13:55:19.129243;artem        NaN\n",
       "2020-04-17 15:00:33.138530;artem        NaN\n",
       "2020-04-17 15:14:09.581054;artem        NaN\n",
       "2020-04-17 22:46:26.785035;vladislav    NaN\n",
       "2020-04-18 00:30:45.051569;artem        NaN\n",
       "2020-04-18 10:53:52.623447;konstantin   NaN\n",
       "2020-04-18 10:56:55.833899;maxim        NaN\n",
       "2020-04-18 10:57:37.331258;konstantin   NaN\n",
       "2020-04-18 11:02:42.796521;artem        NaN"
      ]
     },
     "execution_count": 3,
     "metadata": {},
     "output_type": "execute_result"
    }
   ],
   "source": [
    "df = pd.read_csv('feed-views.log', skiprows=[2,3], skipfooter=2, names=['datetime', 'user'], engine='python', sep='\\t',index_col='datetime')\n",
    "df\n"
   ]
  },
  {
   "cell_type": "markdown",
   "metadata": {},
   "source": [
    "• rename datetime to date_time"
   ]
  },
  {
   "cell_type": "code",
   "execution_count": 4,
   "metadata": {},
   "outputs": [
    {
     "data": {
      "text/html": [
       "<div>\n",
       "<style scoped>\n",
       "    .dataframe tbody tr th:only-of-type {\n",
       "        vertical-align: middle;\n",
       "    }\n",
       "\n",
       "    .dataframe tbody tr th {\n",
       "        vertical-align: top;\n",
       "    }\n",
       "\n",
       "    .dataframe thead th {\n",
       "        text-align: right;\n",
       "    }\n",
       "</style>\n",
       "<table border=\"1\" class=\"dataframe\">\n",
       "  <thead>\n",
       "    <tr style=\"text-align: right;\">\n",
       "      <th></th>\n",
       "      <th>user</th>\n",
       "    </tr>\n",
       "    <tr>\n",
       "      <th>date_time</th>\n",
       "      <th></th>\n",
       "    </tr>\n",
       "  </thead>\n",
       "  <tbody>\n",
       "    <tr>\n",
       "      <th>date_time;user</th>\n",
       "      <td>NaN</td>\n",
       "    </tr>\n",
       "    <tr>\n",
       "      <th>2020-04-17 12:01:08.463179;artem</th>\n",
       "      <td>NaN</td>\n",
       "    </tr>\n",
       "    <tr>\n",
       "      <th>2020-04-17 12:36:21.401412;oksana</th>\n",
       "      <td>NaN</td>\n",
       "    </tr>\n",
       "    <tr>\n",
       "      <th>2020-04-17 12:36:22.023355;oksana</th>\n",
       "      <td>NaN</td>\n",
       "    </tr>\n",
       "    <tr>\n",
       "      <th>2020-04-17 13:55:19.129243;artem</th>\n",
       "      <td>NaN</td>\n",
       "    </tr>\n",
       "    <tr>\n",
       "      <th>2020-04-17 15:00:33.138530;artem</th>\n",
       "      <td>NaN</td>\n",
       "    </tr>\n",
       "    <tr>\n",
       "      <th>2020-04-17 15:14:09.581054;artem</th>\n",
       "      <td>NaN</td>\n",
       "    </tr>\n",
       "    <tr>\n",
       "      <th>2020-04-17 22:46:26.785035;vladislav</th>\n",
       "      <td>NaN</td>\n",
       "    </tr>\n",
       "    <tr>\n",
       "      <th>2020-04-18 00:30:45.051569;artem</th>\n",
       "      <td>NaN</td>\n",
       "    </tr>\n",
       "    <tr>\n",
       "      <th>2020-04-18 10:53:52.623447;konstantin</th>\n",
       "      <td>NaN</td>\n",
       "    </tr>\n",
       "    <tr>\n",
       "      <th>2020-04-18 10:56:55.833899;maxim</th>\n",
       "      <td>NaN</td>\n",
       "    </tr>\n",
       "    <tr>\n",
       "      <th>2020-04-18 10:57:37.331258;konstantin</th>\n",
       "      <td>NaN</td>\n",
       "    </tr>\n",
       "    <tr>\n",
       "      <th>2020-04-18 11:02:42.796521;artem</th>\n",
       "      <td>NaN</td>\n",
       "    </tr>\n",
       "  </tbody>\n",
       "</table>\n",
       "</div>"
      ],
      "text/plain": [
       "                                       user\n",
       "date_time                                  \n",
       "date_time;user                          NaN\n",
       "2020-04-17 12:01:08.463179;artem        NaN\n",
       "2020-04-17 12:36:21.401412;oksana       NaN\n",
       "2020-04-17 12:36:22.023355;oksana       NaN\n",
       "2020-04-17 13:55:19.129243;artem        NaN\n",
       "2020-04-17 15:00:33.138530;artem        NaN\n",
       "2020-04-17 15:14:09.581054;artem        NaN\n",
       "2020-04-17 22:46:26.785035;vladislav    NaN\n",
       "2020-04-18 00:30:45.051569;artem        NaN\n",
       "2020-04-18 10:53:52.623447;konstantin   NaN\n",
       "2020-04-18 10:56:55.833899;maxim        NaN\n",
       "2020-04-18 10:57:37.331258;konstantin   NaN\n",
       "2020-04-18 11:02:42.796521;artem        NaN"
      ]
     },
     "execution_count": 4,
     "metadata": {},
     "output_type": "execute_result"
    }
   ],
   "source": [
    "df.index.name = 'date_time'\n",
    "df"
   ]
  },
  {
   "cell_type": "markdown",
   "metadata": {},
   "source": [
    "• to_csv:<br>\n",
    "◦ use ’;’ as the delimiter<br>\n",
    "◦ save it to a file with the name feed-views-semicolon.log"
   ]
  },
  {
   "cell_type": "code",
   "execution_count": 4,
   "metadata": {},
   "outputs": [],
   "source": [
    "df.to_csv('feed-views-semicolon.log', sep=';')"
   ]
  }
 ],
 "metadata": {
  "kernelspec": {
   "display_name": "Python 3.10.2 64-bit",
   "language": "python",
   "name": "python3"
  },
  "language_info": {
   "codemirror_mode": {
    "name": "ipython",
    "version": 3
   },
   "file_extension": ".py",
   "mimetype": "text/x-python",
   "name": "python",
   "nbconvert_exporter": "python",
   "pygments_lexer": "ipython3",
   "version": "3.10.2"
  },
  "orig_nbformat": 4,
  "vscode": {
   "interpreter": {
    "hash": "0eb92e24d45388be5b49e7743edba76850646e8c545978806cf96c1b66829c54"
   }
  }
 },
 "nbformat": 4,
 "nbformat_minor": 2
}
