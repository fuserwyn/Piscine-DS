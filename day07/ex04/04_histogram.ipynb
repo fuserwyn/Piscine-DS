{
 "cells": [
  {
   "cell_type": "code",
   "execution_count": 2,
   "metadata": {},
   "outputs": [],
   "source": [
    "import pandas as pd\n",
    "import sqlite3\n",
    "import matplotlib.pyplot as plt"
   ]
  },
  {
   "cell_type": "code",
   "execution_count": 3,
   "metadata": {},
   "outputs": [],
   "source": [
    "db_con = sqlite3.connect('../checking-logs.sqlite.sqlite')"
   ]
  },
  {
   "cell_type": "code",
   "execution_count": 4,
   "metadata": {},
   "outputs": [
    {
     "data": {
      "text/html": [
       "<div>\n",
       "<style scoped>\n",
       "    .dataframe tbody tr th:only-of-type {\n",
       "        vertical-align: middle;\n",
       "    }\n",
       "\n",
       "    .dataframe tbody tr th {\n",
       "        vertical-align: top;\n",
       "    }\n",
       "\n",
       "    .dataframe thead th {\n",
       "        text-align: right;\n",
       "    }\n",
       "</style>\n",
       "<table border=\"1\" class=\"dataframe\">\n",
       "  <thead>\n",
       "    <tr style=\"text-align: right;\">\n",
       "      <th></th>\n",
       "      <th>timestamp</th>\n",
       "      <th>date</th>\n",
       "      <th>hour</th>\n",
       "      <th>dayofweek</th>\n",
       "      <th>day</th>\n",
       "    </tr>\n",
       "  </thead>\n",
       "  <tbody>\n",
       "    <tr>\n",
       "      <th>0</th>\n",
       "      <td>2020-04-17 05:19:02.744528</td>\n",
       "      <td>2020-04-17</td>\n",
       "      <td>5</td>\n",
       "      <td>4</td>\n",
       "      <td>working_day</td>\n",
       "    </tr>\n",
       "    <tr>\n",
       "      <th>1</th>\n",
       "      <td>2020-04-17 05:22:35.249331</td>\n",
       "      <td>2020-04-17</td>\n",
       "      <td>5</td>\n",
       "      <td>4</td>\n",
       "      <td>working_day</td>\n",
       "    </tr>\n",
       "    <tr>\n",
       "      <th>2</th>\n",
       "      <td>2020-04-17 05:22:45.549397</td>\n",
       "      <td>2020-04-17</td>\n",
       "      <td>5</td>\n",
       "      <td>4</td>\n",
       "      <td>working_day</td>\n",
       "    </tr>\n",
       "    <tr>\n",
       "      <th>3</th>\n",
       "      <td>2020-04-17 05:34:14.691200</td>\n",
       "      <td>2020-04-17</td>\n",
       "      <td>5</td>\n",
       "      <td>4</td>\n",
       "      <td>working_day</td>\n",
       "    </tr>\n",
       "    <tr>\n",
       "      <th>4</th>\n",
       "      <td>2020-04-17 05:34:24.422370</td>\n",
       "      <td>2020-04-17</td>\n",
       "      <td>5</td>\n",
       "      <td>4</td>\n",
       "      <td>working_day</td>\n",
       "    </tr>\n",
       "    <tr>\n",
       "      <th>...</th>\n",
       "      <td>...</td>\n",
       "      <td>...</td>\n",
       "      <td>...</td>\n",
       "      <td>...</td>\n",
       "      <td>...</td>\n",
       "    </tr>\n",
       "    <tr>\n",
       "      <th>3202</th>\n",
       "      <td>2020-05-21 20:19:06.872761</td>\n",
       "      <td>2020-05-21</td>\n",
       "      <td>20</td>\n",
       "      <td>3</td>\n",
       "      <td>working_day</td>\n",
       "    </tr>\n",
       "    <tr>\n",
       "      <th>3203</th>\n",
       "      <td>2020-05-21 20:22:41.785725</td>\n",
       "      <td>2020-05-21</td>\n",
       "      <td>20</td>\n",
       "      <td>3</td>\n",
       "      <td>working_day</td>\n",
       "    </tr>\n",
       "    <tr>\n",
       "      <th>3204</th>\n",
       "      <td>2020-05-21 20:22:41.877806</td>\n",
       "      <td>2020-05-21</td>\n",
       "      <td>20</td>\n",
       "      <td>3</td>\n",
       "      <td>working_day</td>\n",
       "    </tr>\n",
       "    <tr>\n",
       "      <th>3205</th>\n",
       "      <td>2020-05-21 20:37:00.129678</td>\n",
       "      <td>2020-05-21</td>\n",
       "      <td>20</td>\n",
       "      <td>3</td>\n",
       "      <td>working_day</td>\n",
       "    </tr>\n",
       "    <tr>\n",
       "      <th>3206</th>\n",
       "      <td>2020-05-21 20:37:00.290491</td>\n",
       "      <td>2020-05-21</td>\n",
       "      <td>20</td>\n",
       "      <td>3</td>\n",
       "      <td>working_day</td>\n",
       "    </tr>\n",
       "  </tbody>\n",
       "</table>\n",
       "<p>3207 rows × 5 columns</p>\n",
       "</div>"
      ],
      "text/plain": [
       "                      timestamp        date  hour  dayofweek          day\n",
       "0    2020-04-17 05:19:02.744528  2020-04-17     5          4  working_day\n",
       "1    2020-04-17 05:22:35.249331  2020-04-17     5          4  working_day\n",
       "2    2020-04-17 05:22:45.549397  2020-04-17     5          4  working_day\n",
       "3    2020-04-17 05:34:14.691200  2020-04-17     5          4  working_day\n",
       "4    2020-04-17 05:34:24.422370  2020-04-17     5          4  working_day\n",
       "...                         ...         ...   ...        ...          ...\n",
       "3202 2020-05-21 20:19:06.872761  2020-05-21    20          3  working_day\n",
       "3203 2020-05-21 20:22:41.785725  2020-05-21    20          3  working_day\n",
       "3204 2020-05-21 20:22:41.877806  2020-05-21    20          3  working_day\n",
       "3205 2020-05-21 20:37:00.129678  2020-05-21    20          3  working_day\n",
       "3206 2020-05-21 20:37:00.290491  2020-05-21    20          3  working_day\n",
       "\n",
       "[3207 rows x 5 columns]"
      ]
     },
     "execution_count": 4,
     "metadata": {},
     "output_type": "execute_result"
    }
   ],
   "source": [
    "table = pd.io.sql.read_sql(\"select timestamp from checker WHERE uid LIKE 'user_%'\", db_con, parse_dates='timestamp')\n",
    "table['date'] = table['timestamp'].dt.date\n",
    "table['hour'] = table['timestamp'].dt.hour\n",
    "table['dayofweek'] = table['timestamp'].dt.dayofweek\n",
    "table['day'] = table['dayofweek'].apply(lambda x: 'weekend' if x > 4 else 'working_day')\n",
    "table"
   ]
  },
  {
   "cell_type": "code",
   "execution_count": 11,
   "metadata": {},
   "outputs": [
    {
     "data": {
      "text/plain": [
       "2037"
      ]
     },
     "execution_count": 11,
     "metadata": {},
     "output_type": "execute_result"
    }
   ],
   "source": [
    "working_day = list(table[table['day'] == 'working_day']['hour'])\n",
    "len(working_day)"
   ]
  },
  {
   "cell_type": "code",
   "execution_count": 6,
   "metadata": {},
   "outputs": [
    {
     "data": {
      "text/plain": [
       "1170"
      ]
     },
     "execution_count": 6,
     "metadata": {},
     "output_type": "execute_result"
    }
   ],
   "source": [
    "weekend = list(table[table['day'] == 'weekend']['hour'])\n",
    "len(weekend)"
   ]
  },
  {
   "cell_type": "code",
   "execution_count": 12,
   "metadata": {},
   "outputs": [
    {
     "data": {
      "image/png": "[encoded data removed]",
      "text/plain": [
       "<Figure size 1500x800 with 1 Axes>"
      ]
     },
     "metadata": {},
     "output_type": "display_data"
    }
   ],
   "source": [
    "fig, ax = plt.subplots(figsize=(15, 8))\n",
    "plt.rc('font', size=12) \n",
    "ax.hist(working_day, bins=24, color='xkcd:orange', label='working days')\n",
    "ax.hist(weekend, bins=24, alpha=0.7, color='xkcd:tan', label='weekend')\n",
    "ax.legend()\n",
    "ax.set_xlim(0, 24)\n",
    "plt.show()"
   ]
  }
 ],
 "metadata": {
  "kernelspec": {
   "display_name": "Python 3.10.2 64-bit",
   "language": "python",
   "name": "python3"
  },
  "language_info": {
   "codemirror_mode": {
    "name": "ipython",
    "version": 3
   },
   "file_extension": ".py",
   "mimetype": "text/x-python",
   "name": "python",
   "nbconvert_exporter": "python",
   "pygments_lexer": "ipython3",
   "version": "3.10.2"
  },
  "orig_nbformat": 4,
  "vscode": {
   "interpreter": {
    "hash": "0eb92e24d45388be5b49e7743edba76850646e8c545978806cf96c1b66829c54"
   }
  }
 },
 "nbformat": 4,
 "nbformat_minor": 2
}
